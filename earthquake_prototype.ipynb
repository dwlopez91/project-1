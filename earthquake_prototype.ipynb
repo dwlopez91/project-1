{
 "cells": [
  {
   "cell_type": "markdown",
   "metadata": {},
   "source": [
    "# AQS and USGS Data Set Retrieval:\n",
    "## Dependencies and API setup\n",
    "### Goals and Target:\n",
    "    1. Load A Volcano event from the USGS Data Set into a data frame or json object\n",
    "    2. Retrieve and load AQS data for a timewindow around the volcano event from sensors deteremined by a bounding box of a pair of (lat,long) keys.\n",
    "    3. Retrieve only records for gasses we are interested in.\n",
    "    4. Set up helper functions and files to make scaling painless."
   ]
  },
  {
   "cell_type": "code",
   "execution_count": 2,
   "metadata": {
    "scrolled": false
   },
   "outputs": [],
   "source": [
    "# Import libraries:\n",
    "import datetime\n",
    "from datetime import timedelta\n",
    "import time\n",
    "import pandas as pd\n",
    "import io\n",
    "import requests\n",
    "import geojson\n",
    "# AQS API Things\n",
    "from config import apiURL, apiUser, apiPassword, aqsParams\n",
    "#USGS API Things:\n",
    "from config import usgsURL, usgsStart, usgsFormat, usgsMinmag, usgsConus\n",
    "\n",
    "params = ','.join(list(aqsParams.values()))\n",
    "\n"
   ]
  },
  {
   "cell_type": "markdown",
   "metadata": {},
   "source": [
    "## AQS URL Construction and helper functions:\n",
    "1. Take gcs_coords and event_date from usgs earthquake api\n",
    "2. Format Date/time USGS uses iso8061 time specs"
   ]
  },
  {
   "cell_type": "code",
   "execution_count": 3,
   "metadata": {},
   "outputs": [],
   "source": [
    "# Define functions to create a bounding box a time window for the api call\n",
    "# BBox takes an argument window which is how many square degrees our box will be:\n",
    "def date_coord(df):\n",
    "    date = df.Date\n",
    "    coord = df.GCS\n",
    "    return date, coord\n",
    "\n",
    "def bbox(window, gcs_coords):\n",
    "    bbox = {'minlat': gcs_coords[0]-window,\n",
    "            'maxlat': gcs_coords[0]+window,\n",
    "            'minlon': gcs_coords[1]-window,\n",
    "            'maxlon': gcs_coords[1]+window}\n",
    "    bbox_url = f'&minlat={bbox[\"minlat\"]}&maxlat={bbox[\"maxlat\"]}&minlon={bbox[\"minlon\"]}&maxlon={bbox[\"maxlon\"]}'\n",
    "    return bbox_url\n",
    "# t_window takes a datetime and a time length to return a start and end date a time length's apart\n",
    "def t_window(event_date, window_length):\n",
    "    window = timedelta(days=window_length)\n",
    "    event_time = time.strptime(event_date, '%Y%m%d')\n",
    "    event_time = datetime.datetime(*event_time[:3])\n",
    "    date_window = {'bdate': (event_time - window).strftime(\"%Y%m%d\"),\n",
    "                   'edate': (event_time + window).strftime(\"%Y%m%d\")}\n",
    "    tw_url = f'&bdate={date_window[\"bdate\"]}&edate={date_window[\"edate\"]}'\n",
    "    return tw_url\n",
    "\n",
    "def aqs_api_call(event_date, gcs_coords):\n",
    "    bbox_url = bbox(0.5, gcs_coords)\n",
    "    tw_url = t_window(event_date, 7)\n",
    "    aqs_url = f'{apiURL}param={params[:]}&email={apiUser}&key={apiPassword}{bbox_url}{tw_url}'\n",
    "    aqs_raw = requests.get(aqs_url)\n",
    "    aqs_raw = aqs_raw.json()\n",
    "    return aqs_raw\n",
    "\n",
    "def aqs_scrub(aqs_json)"
   ]
  },
  {
   "cell_type": "markdown",
   "metadata": {},
   "source": [
    "## USGS URL Construction and helper functions:"
   ]
  },
  {
   "cell_type": "code",
   "execution_count": 4,
   "metadata": {
    "scrolled": true
   },
   "outputs": [],
   "source": [
    "# Define fucntions to querry USGS for earthquakes in the US with mag > 7\n",
    "# Return gcs_coords(epicenter in lat,long), event_date(), magnitude, uid, depth\n",
    "# In this case the parameters for the USGS data search were decided in advance and \n",
    "# are specified and hardcoded in the config file. All we need is a function\n",
    "# To create the api call from the specs, and reduce the data to our target parameters:\n",
    "def usgs_api_call():\n",
    "    usgs_url = f\"{usgsURL}{usgsFormat}{usgsStart}{usgsMinmag}{usgsConus['minlat']}{usgsConus['maxlat']}{usgsConus['minlon']}{usgsConus['maxlon']}\"\n",
    "    usgs_raw = requests.get(usgs_url)\n",
    "    usgs_raw = usgs_raw.json()\n",
    "    return usgs_raw\n",
    "\n",
    "#Exctract the information we're interested in stuff into a dataframe\n",
    "def usgs_scrub(usgs_geojson):\n",
    "    target_data = []\n",
    "    i=0\n",
    "    for entry in usgs_geojson['features']:\n",
    "        identifier = usgs_geojson['features'][i]['id']\n",
    "        mag = usgs_geojson['features'][i]['properties']['mag']\n",
    "        epochtime = usgs_geojson['features'][i]['properties']['time']\n",
    "        converted_date= time.strftime('%Y%m%d',  time.gmtime(epochtime/1000))\n",
    "        converted_time = time.strftime('%H:%M:%S',  time.gmtime(epochtime/1000))\n",
    "        place = usgs_geojson['features'][i]['properties']['place']\n",
    "        lon = float(usgs_geojson['features'][i]['geometry']['coordinates'][0])\n",
    "        lat = float(usgs_geojson['features'][i]['geometry']['coordinates'][1])\n",
    "        gcs_coords = [lat,lon]\n",
    "        depth = usgs_geojson['features'][i]['geometry']['coordinates'][2]\n",
    "        entry_dict = {\"Identifier\":identifier, \n",
    "                       \"Location\":place,\n",
    "                       \"GCS\": gcs_coords, \n",
    "                       \"Depth\":depth,\n",
    "                       \"Magnitude\":mag, \n",
    "                       \"Date\":converted_date,\n",
    "                       \"Time\":converted_time}\n",
    "        target_data.append(entry_dict)\n",
    "        i+=1\n",
    "    target_df = pd.DataFrame(target_data)\n",
    "    return target_df\n",
    "\n",
    "    \n",
    "\n",
    "    "
   ]
  },
  {
   "cell_type": "markdown",
   "metadata": {},
   "source": [
    "## API Calls \n",
    "1. Call USGS api first to get coordinates and date to feed into the AQS API\n",
    "2. Call AQS API with coordinates and date\n",
    "3. Clean AQS Data"
   ]
  },
  {
   "cell_type": "code",
   "execution_count": 5,
   "metadata": {
    "scrolled": false
   },
   "outputs": [],
   "source": [
    "# USGS Call and get date and coordinates for next call:\n",
    "earthquake_df = usgs_scrub(usgs_api_call())\n",
    "earthquake_df\n",
    "event_time, gcs_coords = date_coord(earthquake_df)"
   ]
  },
  {
   "cell_type": "code",
   "execution_count": null,
   "metadata": {
    "scrolled": true
   },
   "outputs": [],
   "source": [
    "# AQS Call:\n",
    "print(gcs_coords[0])\n",
    "eqaq_raw = aqs_api_call(event_time[0], gcs_coords[0])\n",
    "#eqaq_raw"
   ]
  },
  {
   "cell_type": "code",
   "execution_count": 7,
   "metadata": {},
   "outputs": [
    {
     "data": {
      "text/html": [
       "<div>\n",
       "<style scoped>\n",
       "    .dataframe tbody tr th:only-of-type {\n",
       "        vertical-align: middle;\n",
       "    }\n",
       "\n",
       "    .dataframe tbody tr th {\n",
       "        vertical-align: top;\n",
       "    }\n",
       "\n",
       "    .dataframe thead th {\n",
       "        text-align: right;\n",
       "    }\n",
       "</style>\n",
       "<table border=\"1\" class=\"dataframe\">\n",
       "  <thead>\n",
       "    <tr style=\"text-align: right;\">\n",
       "      <th></th>\n",
       "      <th>Identifier</th>\n",
       "      <th>Location</th>\n",
       "      <th>GCS</th>\n",
       "      <th>Depth</th>\n",
       "      <th>Magnitude</th>\n",
       "      <th>Date</th>\n",
       "      <th>Time</th>\n",
       "    </tr>\n",
       "  </thead>\n",
       "  <tbody>\n",
       "    <tr>\n",
       "      <td>0</td>\n",
       "      <td>ci38457511</td>\n",
       "      <td>2019 Ridgecrest Earthquake Sequence</td>\n",
       "      <td>[35.7695, -117.5993333]</td>\n",
       "      <td>8.000</td>\n",
       "      <td>7.1</td>\n",
       "      <td>20190706</td>\n",
       "      <td>03:19:53</td>\n",
       "    </tr>\n",
       "    <tr>\n",
       "      <td>1</td>\n",
       "      <td>usp000jhr6</td>\n",
       "      <td>Baja California, Mexico</td>\n",
       "      <td>[28.696, -113.104]</td>\n",
       "      <td>13.000</td>\n",
       "      <td>7.0</td>\n",
       "      <td>20120412</td>\n",
       "      <td>07:15:48</td>\n",
       "    </tr>\n",
       "    <tr>\n",
       "      <td>2</td>\n",
       "      <td>ci14607652</td>\n",
       "      <td>12km SW of Delta, B.C., MX</td>\n",
       "      <td>[32.2861667, -115.2953333]</td>\n",
       "      <td>9.987</td>\n",
       "      <td>7.2</td>\n",
       "      <td>20100404</td>\n",
       "      <td>22:40:42</td>\n",
       "    </tr>\n",
       "    <tr>\n",
       "      <td>3</td>\n",
       "      <td>ci9108652</td>\n",
       "      <td>16km SW of Ludlow, CA</td>\n",
       "      <td>[34.6033333, -116.265]</td>\n",
       "      <td>13.730</td>\n",
       "      <td>7.1</td>\n",
       "      <td>19991016</td>\n",
       "      <td>09:46:44</td>\n",
       "    </tr>\n",
       "    <tr>\n",
       "      <td>4</td>\n",
       "      <td>ci3031111</td>\n",
       "      <td>Landers, California Earthquake</td>\n",
       "      <td>[34.2, -116.437]</td>\n",
       "      <td>-0.097</td>\n",
       "      <td>7.3</td>\n",
       "      <td>19920628</td>\n",
       "      <td>11:57:34</td>\n",
       "    </tr>\n",
       "    <tr>\n",
       "      <td>5</td>\n",
       "      <td>nc269151</td>\n",
       "      <td>20km SSW of Rio Dell, California</td>\n",
       "      <td>[40.3353333, -124.2286667]</td>\n",
       "      <td>9.856</td>\n",
       "      <td>7.2</td>\n",
       "      <td>19920425</td>\n",
       "      <td>18:06:05</td>\n",
       "    </tr>\n",
       "  </tbody>\n",
       "</table>\n",
       "</div>"
      ],
      "text/plain": [
       "   Identifier                             Location  \\\n",
       "0  ci38457511  2019 Ridgecrest Earthquake Sequence   \n",
       "1  usp000jhr6              Baja California, Mexico   \n",
       "2  ci14607652           12km SW of Delta, B.C., MX   \n",
       "3   ci9108652                16km SW of Ludlow, CA   \n",
       "4   ci3031111       Landers, California Earthquake   \n",
       "5    nc269151     20km SSW of Rio Dell, California   \n",
       "\n",
       "                          GCS   Depth  Magnitude      Date      Time  \n",
       "0     [35.7695, -117.5993333]   8.000        7.1  20190706  03:19:53  \n",
       "1          [28.696, -113.104]  13.000        7.0  20120412  07:15:48  \n",
       "2  [32.2861667, -115.2953333]   9.987        7.2  20100404  22:40:42  \n",
       "3      [34.6033333, -116.265]  13.730        7.1  19991016  09:46:44  \n",
       "4            [34.2, -116.437]  -0.097        7.3  19920628  11:57:34  \n",
       "5  [40.3353333, -124.2286667]   9.856        7.2  19920425  18:06:05  "
      ]
     },
     "execution_count": 7,
     "metadata": {},
     "output_type": "execute_result"
    }
   ],
   "source": [
    "earthquake_df"
   ]
  }
 ],
 "metadata": {
  "kernelspec": {
   "display_name": "Python 3",
   "language": "python",
   "name": "python3"
  },
  "language_info": {
   "codemirror_mode": {
    "name": "ipython",
    "version": 3
   },
   "file_extension": ".py",
   "mimetype": "text/x-python",
   "name": "python",
   "nbconvert_exporter": "python",
   "pygments_lexer": "ipython3",
   "version": "3.7.3"
  }
 },
 "nbformat": 4,
 "nbformat_minor": 2
}
