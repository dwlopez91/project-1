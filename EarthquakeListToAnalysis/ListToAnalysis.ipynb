{
 "cells": [
  {
   "cell_type": "code",
   "execution_count": null,
   "metadata": {},
   "outputs": [],
   "source": [
    "import requests\n",
    "import time\n",
    "import pandas as pd\n",
    "from config import email, key\n",
    "import matplotlib.pyplot as plt\n",
    "import json\n",
    "\n",
    "class color:\n",
    "   PURPLE = '\\033[95m'\n",
    "   CYAN = '\\033[96m'\n",
    "   DARKCYAN = '\\033[36m'\n",
    "   BLUE = '\\033[94m'\n",
    "   GREEN = '\\033[92m'\n",
    "   YELLOW = '\\033[93m'\n",
    "   RED = '\\033[91m'\n",
    "   BOLD = '\\033[1m'\n",
    "   UNDERLINE = '\\033[4m'\n",
    "   END = '\\033[0m'"
   ]
  },
  {
   "cell_type": "code",
   "execution_count": null,
   "metadata": {},
   "outputs": [],
   "source": [
    "base_url = \"https://earthquake.usgs.gov/fdsnws/event/1/query?format=geojson\"\n",
    "times_url = \"&starttime=1990-01-01\"\n",
    "magnitude_url =\"&minmagnitude=5.5\"\n",
    "geometry_url = \"&minlatitude=25&maxlatitude=50&minlongitude=-125&maxlongitude=-65\"\n",
    "\n",
    "search = requests.get(base_url + times_url + magnitude_url + geometry_url)\n",
    "response = search.json()\n",
    "\n",
    "#print(json.dumps(response, indent=4, sort_keys=True))\n",
    "\n",
    "response"
   ]
  },
  {
   "cell_type": "code",
   "execution_count": null,
   "metadata": {},
   "outputs": [],
   "source": [
    "earthquakes_list = []\n",
    "i=0\n",
    "\n",
    "for record in response['features']:\n",
    "    identifier = response['features'][i]['id']\n",
    "    mag = response['features'][i]['properties']['mag']\n",
    "    url = response['features'][i]['properties']['url']\n",
    "    epochtime = response['features'][i]['properties']['time']\n",
    "    four_weeks_before = epochtime - 2419200000\n",
    "    four_weeks_after = epochtime +2419200000\n",
    "    event_date= time.strftime('%Y%m%d',  time.gmtime(epochtime/1000))\n",
    "    month_before= time.strftime('%Y%m%d',  time.gmtime(four_weeks_before/1000))\n",
    "    month_after = time.strftime('%Y%m%d',  time.gmtime(four_weeks_after/1000))\n",
    "    converted_time = time.strftime('%H:%M:%S',  time.gmtime(epochtime/1000))\n",
    "    timezone=response['features'][i]['properties']['tz']\n",
    "    place = response['features'][i]['properties']['place']\n",
    "    significance=response['features'][i]['properties']['sig']\n",
    "    lon = response['features'][i]['geometry']['coordinates'][0]\n",
    "    lat = response['features'][i]['geometry']['coordinates'][1]\n",
    "    depth = response['features'][i]['geometry']['coordinates'][2]\n",
    "    record_dict = {\"Identifier\":identifier, \"Location\":place, \"Magnitude\":mag, \"Event Date\":event_date,\n",
    "                   \"Month Before\":month_before, \"Month After\":month_after, \"Time\":converted_time,\"Time Zone\":timezone, \n",
    "                   \"Significance\":significance, \"Lat\":lat, \"Lon\":lon, \"Depth\":depth, \"Epoch Time\":epochtime}\n",
    "    earthquakes_list.append(record_dict)\n",
    "    \n",
    "    i += 1\n",
    "    \n",
    "earthquakes_df = pd.DataFrame(earthquakes_list)\n",
    "\n",
    "earthquakes_df = earthquakes_df[~earthquakes_df[\"Location\"].str.contains(\"Mexico\")]\n",
    "\n",
    "earthquakes_df = earthquakes_df[~earthquakes_df[\"Location\"].str.contains(\"MX\")].reset_index()\n",
    "\n",
    "earthquakes_df = earthquakes_df.fillna(value=\"\")\n",
    "\n",
    "earthquakes_abbrev =earthquakes_df[['Location', 'Event Date', 'Magnitude']]\n",
    "\n",
    "pd.set_option('display.max_rows', None)\n",
    "\n",
    "earthquakes_df.head()"
   ]
  },
  {
   "cell_type": "code",
   "execution_count": null,
   "metadata": {},
   "outputs": [],
   "source": [
    "earthquakes_abbrev"
   ]
  },
  {
   "cell_type": "markdown",
   "metadata": {},
   "source": [
    "# Select an EARTHQUAKE from list to Analyze (by index number):"
   ]
  },
  {
   "cell_type": "code",
   "execution_count": null,
   "metadata": {},
   "outputs": [],
   "source": [
    "earthquake = int(input(\"Select earthquake by index:  \"))"
   ]
  },
  {
   "cell_type": "code",
   "execution_count": null,
   "metadata": {},
   "outputs": [],
   "source": [
    "# base_url finds air quality readings by Box\n",
    "\n",
    "base_url = \"https://aqs.epa.gov/data/api/dailyData/byBox?\"\n",
    "\n",
    "#parameters for byBox for CRITERIA Pollutants \n",
    "#42401=\"Sulfur Dioxide\" \n",
    "#42602=\"Nitrogen Dioxide\"\n",
    "#42201=\"Ozone\"\n",
    "#42101 = \"Carbon Monoxide\"\n",
    "\n",
    "begin = earthquakes_df.iloc[earthquake, 5]\n",
    "end = earthquakes_df.iloc[earthquake, 6]\n",
    "minlat=earthquakes_df.iloc[earthquake,10]-1\n",
    "maxlat=earthquakes_df.iloc[earthquake,10]+1\n",
    "minlon=earthquakes_df.iloc[earthquake,11]-1\n",
    "maxlon=earthquakes_df.iloc[earthquake,11]+1\n",
    "earthquake_location=earthquakes_df.iloc[earthquake,2]\n",
    "event_date =earthquakes_df.iloc[earthquake, 4]\n",
    "\n",
    "param_url = \"param=42401,42602,44201,42101,81102,85129,88101,14129\"\n",
    "date_range_url = f\"&bdate={begin}&edate={end}\"\n",
    "geometry_url = f\"&minlat={minlat}&maxlat={maxlat}&minlon={minlon}&maxlon={maxlon}\"\n",
    "\n",
    "url = (base_url + param_url + \"&email=\" + email + \"&key=\" + key + date_range_url + geometry_url)"
   ]
  },
  {
   "cell_type": "code",
   "execution_count": null,
   "metadata": {},
   "outputs": [],
   "source": [
    "# Perform the search, jsonify the results, and store the data as \"response\"\n",
    "\n",
    "print(color.BOLD + color.RED + f\"Searching for data for Earthquake from location: {earthquake_location}.  Date of event: {event_date}.\" + color.END)\n",
    "\n",
    "search = requests.get(url)\n",
    "response = search.json()\n",
    "response"
   ]
  },
  {
   "cell_type": "code",
   "execution_count": null,
   "metadata": {},
   "outputs": [],
   "source": [
    "# iterate through the json data and establish a dataframe of the relevant fields\n",
    "\n",
    "record_list = []\n",
    "i=0\n",
    "\n",
    "for record in response['Data']:\n",
    "    site = response['Data'][i]['local_site_name']\n",
    "    station = response['Data'][i]['site_number']\n",
    "    parameter = response['Data'][i]['parameter']\n",
    "    date = response['Data'][i]['date_local']\n",
    "    #time = response['Data'][i]['time_local']\n",
    "    #measurement = response['Data'][i]['sample_measurement']\n",
    "    measurement = response['Data'][i]['arithmetic_mean']\n",
    "    measurement_unit = response['Data'][i]['units_of_measure']\n",
    "    event_type=response['Data'][i][\"event_type\"]\n",
    "    lon = response['Data'][i]['longitude']\n",
    "    lat = response['Data'][i]['latitude']\n",
    "    record_dict = {\"Parameter\":parameter,\"Date\":date,\"Station\":station,\"Site\":site, \"Lat\":lat,\"Lon\":lon,\n",
    "                   \"Measurement\":measurement, \"Unit\":measurement_unit,\"Event Type\":event_type}\n",
    "    record_list.append(record_dict)\n",
    "\n",
    "    i += 1\n",
    "    \n",
    "record_df = pd.DataFrame(record_list)\n",
    "\n",
    "# also create dataframe grouped by Parameter and Collection Site\n",
    "\n",
    "recordgroupby_df = record_df[['Parameter', 'Date', 'Measurement']]\n",
    "\n",
    "recordgroupby_df = recordgroupby_df.groupby(['Parameter','Date'],as_index=False).mean()\n",
    "\n",
    "\n",
    "recordbybox_df = record_df[['Site','Station','Date','Parameter','Lat','Lon','Measurement','Unit']]\n",
    "\n",
    "recordbybox_df = recordbybox_df.sort_values(by=['Site','Date','Parameter'])\n",
    "\n",
    "# save dataframes to a csv file. \n",
    "\n",
    "event_date =earthquakes_df.iloc[earthquake, 4]\n",
    "location = earthquakes_df.iloc[earthquake, 2]\n",
    "record_df.to_csv(f\"DataFiles/{event_date}-{location}.csv\")\n",
    "recordbybox_df.to_csv(f\"DataFiles/{event_date}-{location}_bySite.csv\")\n",
    "recordgroupby_df.to_csv(f\"DataFiles/{event_date}-{location}_byPollutant.csv\")\n",
    "recordgroupby_df\n"
   ]
  },
  {
   "cell_type": "code",
   "execution_count": null,
   "metadata": {},
   "outputs": [],
   "source": [
    "LeadTSPRecordDates = recordbybox_df[recordbybox_df[\"Parameter\"]==\"Lead (TSP) LC\"]\n",
    "\n",
    "LeadTSPPivot = pd.pivot_table(LeadTSPRecordDates, values=\"Measurement\", index = [\"Station\", \"Site\"], \n",
    "                             columns = [\"Date\"])\n",
    "\n",
    "LeadTSPPivot.to_csv(f\"DataFiles/{event_date}-{location}_Sulfur.csv\")\n",
    "LeadTSPPivot"
   ]
  },
  {
   "cell_type": "code",
   "execution_count": null,
   "metadata": {},
   "outputs": [],
   "source": [
    "LeadTSPRecordDates = recordbybox_df[recordbybox_df[\"Parameter\"]==\"Lead (TSP) LC\"]\n",
    "\n",
    "LeadTSPPivot = pd.pivot_table(LeadTSPRecordDates, values=\"Measurement\", index = [\"Station\", \"Site\"], \n",
    "                             columns = [\"Date\"])\n",
    "\n",
    "LeadTSPPivot.to_csv(f\"DataFiles/{event_date}-{location}_Sulfur.csv\")\n",
    "LeadTSPPivot"
   ]
  },
  {
   "cell_type": "code",
   "execution_count": null,
   "metadata": {},
   "outputs": [],
   "source": [
    "LeadPMRecordDates = recordbybox_df[recordbybox_df[\"Parameter\"]==\"Lead PM10 LC FRM/FEM\"]\n",
    "\n",
    "LeadPMPivot = pd.pivot_table(LeadPMRecordDates, values=\"Measurement\", index = [\"Station\", \"Site\"], \n",
    "                             columns = [\"Date\"])\n",
    "\n",
    "LeadPMPivot.to_csv(f\"DataFiles/{event_date}-{location}_Sulfur.csv\")\n",
    "LeadPMPivot"
   ]
  },
  {
   "cell_type": "code",
   "execution_count": null,
   "metadata": {},
   "outputs": [],
   "source": [
    "SulfurDioxideRecordDates = recordbybox_df[recordbybox_df[\"Parameter\"]==\"Sulfur dioxide\"]\n",
    "\n",
    "SulfurPivot = pd.pivot_table(SulfurDioxideRecordDates, values=\"Measurement\", index = [\"Station\", \"Site\"], \n",
    "                             columns = [\"Date\"])\n",
    "\n",
    "SulfurPivot.to_csv(f\"DataFiles/{event_date}-{location}_Sulfur.csv\")\n",
    "SulfurPivot"
   ]
  },
  {
   "cell_type": "code",
   "execution_count": null,
   "metadata": {},
   "outputs": [],
   "source": [
    "NitrogenDioxideRecordDates = recordbybox_df[recordbybox_df[\"Parameter\"]==\"Nitrogen dioxide (NO2)\"]\n",
    "\n",
    "NitrogenPivot = pd.pivot_table(NitrogenDioxideRecordDates, values=\"Measurement\", index = [\"Station\", \"Site\"], \n",
    "                             columns = [\"Date\"])\n",
    "\n",
    "NitrogenPivot.to_csv(f\"DataFiles/{event_date}-{location}_NitrogenDioxide.csv\")\n",
    "NitrogenPivot"
   ]
  },
  {
   "cell_type": "code",
   "execution_count": null,
   "metadata": {},
   "outputs": [],
   "source": [
    "OzoneRecordDates = recordbybox_df[recordbybox_df[\"Parameter\"]==\"Ozone\"]\n",
    "\n",
    "OzonePivot = pd.pivot_table(OzoneRecordDates, values=\"Measurement\", index = [\"Station\", \"Site\"], \n",
    "                             columns = [\"Date\"])\n",
    "\n",
    "OzonePivot.to_csv(f\"DataFiles/{event_date}-{location}_Ozone.csv\")\n",
    "\n",
    "OzonePivot"
   ]
  },
  {
   "cell_type": "code",
   "execution_count": null,
   "metadata": {},
   "outputs": [],
   "source": [
    "CORecordDates = recordbybox_df[recordbybox_df[\"Parameter\"]==\"Carbon monoxide\"]\n",
    "\n",
    "COPivot = pd.pivot_table(CORecordDates, values=\"Measurement\", index = [\"Station\", \"Site\"], \n",
    "                             columns = [\"Date\"])\n",
    "\n",
    "COPivot.to_csv(f\"DataFiles/{event_date}-{location}_CarbonMonoxide.csv\")\n",
    "\n",
    "COPivot"
   ]
  },
  {
   "cell_type": "code",
   "execution_count": null,
   "metadata": {},
   "outputs": [],
   "source": [
    "#Extract NO2 data from the groupby\n",
    "\n",
    "Nitrogen_Dioxide = recordgroupby_df['Parameter']==\"Nitrogen dioxide (NO2)\"\n",
    "record_NO2 = recordgroupby_df[Nitrogen_Dioxide]\n",
    "record_NO2.head()"
   ]
  },
  {
   "cell_type": "code",
   "execution_count": null,
   "metadata": {},
   "outputs": [],
   "source": [
    "# Plot the NO2 data with line chart\n",
    "\n",
    "epochtime = earthquakes_df.iloc[earthquake, 13]\n",
    "aqi_event_date = time.strftime('%Y-%m-%d',  time.gmtime(epochtime/1000))\n",
    "earthquake_location=earthquakes_df.iloc[earthquake,2]\n",
    "\n",
    "plt.plot(record_NO2['Date'],record_NO2['Measurement'])\n",
    "plt.title('{0}'.format(\"NO2:\" + earthquake_location + \" \" + aqi_event_date), fontsize =30)\n",
    "plt.xlabel(\"Date\", fontsize = 18)\n",
    "plt.ylabel(\"NO2 (parts per billion)\", fontsize =18)\n",
    "plt.rcParams[\"figure.figsize\"] = [16,8]\n",
    "plt.rcParams['xtick.labelsize']=11\n",
    "plt.rcParams['ytick.labelsize']=16\n",
    "plt.xticks(rotation=90)\n",
    "plt.axvline(x=aqi_event_date, color='r', linewidth=4)\n",
    "plt.grid()\n",
    "plt.show()\n"
   ]
  },
  {
   "cell_type": "code",
   "execution_count": null,
   "metadata": {},
   "outputs": [],
   "source": [
    "# Extract SO2 data from the groupby dataframe\n",
    "\n",
    "Sulfur_Dioxide = recordgroupby_df['Parameter']==\"Sulfur dioxide\"\n",
    "record_SO2 = recordgroupby_df[Sulfur_Dioxide]\n",
    "record_SO2.head()"
   ]
  },
  {
   "cell_type": "code",
   "execution_count": null,
   "metadata": {},
   "outputs": [],
   "source": [
    "# Chart the SO2 Data\n",
    "\n",
    "epochtime = earthquakes_df.iloc[earthquake, 13]\n",
    "aqi_event_date = time.strftime('%Y-%m-%d',  time.gmtime(epochtime/1000))\n",
    "earthquake_location=earthquakes_df.iloc[earthquake,2]\n",
    "\n",
    "plt.plot(record_SO2['Date'],record_SO2['Measurement'])\n",
    "plt.title('{0}'.format(\"SO2:\" + earthquake_location + \" \" + aqi_event_date), fontsize =30)\n",
    "plt.xlabel(\"Date\", fontsize = 18)\n",
    "plt.ylabel(\"SO2 (parts per billion)\", fontsize =18)\n",
    "plt.rcParams[\"figure.figsize\"] = [16,8]\n",
    "plt.rcParams['xtick.labelsize']=11\n",
    "plt.rcParams['ytick.labelsize']=16\n",
    "plt.xticks(rotation=90)\n",
    "plt.axvline(x=aqi_event_date, color='r', linewidth=4)\n",
    "plt.grid()\n",
    "plt.show()"
   ]
  },
  {
   "cell_type": "code",
   "execution_count": null,
   "metadata": {
    "scrolled": true
   },
   "outputs": [],
   "source": [
    "# Extract Ozone from the groupby dataframe\n",
    "\n",
    "Ozone = recordgroupby_df['Parameter']==\"Ozone\"\n",
    "record_Ozone = recordgroupby_df[Ozone]\n",
    "record_Ozone.head()"
   ]
  },
  {
   "cell_type": "code",
   "execution_count": null,
   "metadata": {},
   "outputs": [],
   "source": [
    "#Chart the Ozone Data\n",
    "\n",
    "epochtime = earthquakes_df.iloc[earthquake, 13]\n",
    "aqi_event_date = time.strftime('%Y-%m-%d',  time.gmtime(epochtime/1000))\n",
    "earthquake_location=earthquakes_df.iloc[earthquake,2]\n",
    "\n",
    "plt.plot(record_Ozone['Date'],record_Ozone['Measurement'])\n",
    "plt.title('{0}'.format(\"Ozone:\" + earthquake_location + \" \" + aqi_event_date), fontsize =30)\n",
    "plt.xlabel(\"Date\", fontsize = 18)\n",
    "plt.ylabel(\"Ozone (parts per million)\", fontsize =18)\n",
    "plt.rcParams[\"figure.figsize\"] = [16,8]\n",
    "plt.rcParams['xtick.labelsize']=11\n",
    "plt.rcParams['ytick.labelsize']=16\n",
    "plt.grid()\n",
    "plt.axvline(x=aqi_event_date, color='r', linewidth=4)\n",
    "plt.xticks(rotation=90)\n",
    "plt.show()"
   ]
  },
  {
   "cell_type": "code",
   "execution_count": null,
   "metadata": {},
   "outputs": [],
   "source": [
    "# Extract CO from the groupby dataframe\n",
    "\n",
    "Carbon_Monoxide = recordgroupby_df['Parameter']==\"Carbon monoxide\"\n",
    "record_CO = recordgroupby_df[Carbon_Monoxide]\n",
    "record_CO.head()"
   ]
  },
  {
   "cell_type": "code",
   "execution_count": null,
   "metadata": {},
   "outputs": [],
   "source": [
    "#Chart the Carbon Monoxide Data\n",
    "\n",
    "epochtime = earthquakes_df.iloc[earthquake, 13]\n",
    "aqi_event_date = time.strftime('%Y-%m-%d',  time.gmtime(epochtime/1000))\n",
    "earthquake_location=earthquakes_df.iloc[earthquake,2]\n",
    "\n",
    "plt.plot(record_CO['Date'],record_CO['Measurement'])\n",
    "plt.title('{0}'.format(\"CO:\" + earthquake_location + \" \" + aqi_event_date), fontsize =30)\n",
    "plt.xlabel(\"Date\", fontsize = 18)\n",
    "plt.ylabel(\"Carbon Monoxide (parts per million)\", fontsize =18)\n",
    "plt.rcParams[\"figure.figsize\"] = [16,8]\n",
    "plt.rcParams['xtick.labelsize']=11\n",
    "plt.rcParams['ytick.labelsize']=16\n",
    "plt.xticks(rotation=90)\n",
    "plt.axvline(x=aqi_event_date, color='r', linewidth=4)\n",
    "plt.grid()\n",
    "plt.show()"
   ]
  },
  {
   "cell_type": "code",
   "execution_count": null,
   "metadata": {},
   "outputs": [],
   "source": []
  }
 ],
 "metadata": {
  "kernelspec": {
   "display_name": "Python 3",
   "language": "python",
   "name": "python3"
  },
  "language_info": {
   "codemirror_mode": {
    "name": "ipython",
    "version": 3
   },
   "file_extension": ".py",
   "mimetype": "text/x-python",
   "name": "python",
   "nbconvert_exporter": "python",
   "pygments_lexer": "ipython3",
   "version": "3.6.9"
  }
 },
 "nbformat": 4,
 "nbformat_minor": 2
}
